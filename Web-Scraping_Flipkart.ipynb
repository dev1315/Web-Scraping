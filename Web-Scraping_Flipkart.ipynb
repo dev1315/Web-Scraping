{
 "cells": [
  {
   "cell_type": "markdown",
   "metadata": {},
   "source": [
    "# Scraping through Flipkart searches\n",
    "So here I attempted to create a small code to scrap products with their `features`, `price`, `rating` etc through searching products"
   ]
  },
  {
   "cell_type": "markdown",
   "metadata": {},
   "source": [
    "### Install these libraries if you dont have these installed on your system"
   ]
  },
  {
   "cell_type": "code",
   "execution_count": 1,
   "metadata": {},
   "outputs": [],
   "source": [
    "# !pip install requests\n",
    "# !pip install beautifulsoup4"
   ]
  },
  {
   "cell_type": "markdown",
   "metadata": {},
   "source": [
    "### Following libraries were used"
   ]
  },
  {
   "cell_type": "code",
   "execution_count": 61,
   "metadata": {},
   "outputs": [],
   "source": [
    "import requests\n",
    "from bs4 import BeautifulSoup\n",
    "import re\n",
    "import pandas as pd"
   ]
  },
  {
   "cell_type": "code",
   "execution_count": 22,
   "metadata": {},
   "outputs": [],
   "source": [
    "#just to widen the column width\n",
    "pd.set_option('display.max_colwidth',50)"
   ]
  },
  {
   "cell_type": "markdown",
   "metadata": {},
   "source": [
    "### In order to scrap product details you need to run the cell below and enter your `search keyword` and `no of pages you want to scrap`"
   ]
  },
  {
   "cell_type": "code",
   "execution_count": 55,
   "metadata": {
    "scrolled": true
   },
   "outputs": [
    {
     "name": "stdout",
     "output_type": "stream",
     "text": [
      "Enter what you want to search!led tv\n",
      "Enter the no of pages you want to scrap60\n"
     ]
    }
   ],
   "source": [
    "#for taking inputs\n",
    "search=str(input(\"Enter what you want to search!\"))\n",
    "search_object=search\n",
    "n_pages=int(input(\"Enter the no of pages you want to scrap\"))\n",
    "\n",
    "#processing the search keyword for fitting in the url\n",
    "x=\"\"\n",
    "for i in search.split():\n",
    "    x+=i+'%20'\n",
    "search=x\n",
    "\n",
    "#url template with custom search and page no\n",
    "url_template=f\"https://www.flipkart.com/search?q={search}&otracker=search&otracker1=search&marketplace=FLIPKART&as-show=on&as=off&page=\"\n",
    "\n",
    "#creating urls for user defined no of pages\n",
    "urls=[url_template+str(i) for i in range(1,n_pages+1)]\n",
    "\n",
    "#initiating an empty list data\n",
    "data=[]\n",
    "for url in urls: \n",
    "    #to make http request get the response html page and read it\n",
    "    soup=BeautifulSoup(requests.get(url).text)\n",
    "\n",
    "    #to jump to the tag containing all the data\n",
    "    main=soup.find('div',class_=\"_1HmYoV _35HD7C\").find_next_sibling()\n",
    "\n",
    "    #to loop over each product in the page\n",
    "    for i,a in enumerate(main.find_all('div',class_=\"bhgxx2 col-12-12\")):    \n",
    "        \n",
    "        #try & except is used because some products may not have price mentioned so at that time an error will shoot and except statemnt will execute\n",
    "        try:\n",
    "            price=a.find('a').find('div',class_=\"_1vC4OE _2rQ-NK\").get_text()\n",
    "            price=\"\".join(re.findall(\"\\d\",price))\n",
    "        except:\n",
    "            price=\"Not shown\"\n",
    "        \n",
    "        #product page link is stored from a tag using href\n",
    "        link=f\"https://www.flipkart.com{a.find('a').get('href')}\"\n",
    "        \n",
    "        \n",
    "        try:\n",
    "            rating_count=a.find('a').find('div',class_=\"niH0FQ\").find('span').find_next_sibling().span.span.get_text()\n",
    "            rating_count=\"\".join(re.findall(\"\\d\",rating_count))\n",
    "        except:\n",
    "            rating_count=\"unrated\"\n",
    "        \n",
    "        #product name contains brand name and then some key features\n",
    "        features=[]\n",
    "        features.append(\" \".join(a.find('a').find('div',class_=\"_3wU53n\").get_text().split()[1:]))\n",
    "        bname=a.find('a').find('div',class_=\"_3wU53n\").get_text().split()[0]\n",
    "        \n",
    "        #there may be products that dont have any rating so to avoid errors we use try & except\n",
    "        try:\n",
    "            rating=a.find('a').find('div',class_=\"hGSR34\").get_text()\n",
    "        except:\n",
    "            rating=\"unrated\"\n",
    "            \n",
    "        #Here we loop over all the features in 'ul' tag --> 'li' tag\n",
    "        for j in a.find('a').find('ul',class_=\"vFw0gD\").children:\n",
    "            features.append(j.get_text())\n",
    "        \n",
    "        #appending all the data into a list\n",
    "        data.append([bname,features,price,rating,rating_count,link])\n",
    "        \n",
    "        #most important step because we are looping over 2 extra tags which are actually not product tags \n",
    "        #refer page inspect\n",
    "        if i==len(main.find_all('div',class_=\"bhgxx2 col-12-12\"))-3:\n",
    "            break"
   ]
  },
  {
   "cell_type": "markdown",
   "metadata": {},
   "source": [
    "-------"
   ]
  },
  {
   "cell_type": "markdown",
   "metadata": {},
   "source": [
    "#### Details in the red box are grabbed from the product search page for each product\n",
    "<img src='Untitled.png' />"
   ]
  },
  {
   "cell_type": "code",
   "execution_count": 56,
   "metadata": {},
   "outputs": [
    {
     "data": {
      "text/html": [
       "<div>\n",
       "<style scoped>\n",
       "    .dataframe tbody tr th:only-of-type {\n",
       "        vertical-align: middle;\n",
       "    }\n",
       "\n",
       "    .dataframe tbody tr th {\n",
       "        vertical-align: top;\n",
       "    }\n",
       "\n",
       "    .dataframe thead th {\n",
       "        text-align: right;\n",
       "    }\n",
       "</style>\n",
       "<table border=\"1\" class=\"dataframe\">\n",
       "  <thead>\n",
       "    <tr style=\"text-align: right;\">\n",
       "      <th></th>\n",
       "      <th>brand</th>\n",
       "      <th>features</th>\n",
       "      <th>price</th>\n",
       "      <th>rating</th>\n",
       "      <th>rating_count</th>\n",
       "      <th>link</th>\n",
       "    </tr>\n",
       "  </thead>\n",
       "  <tbody>\n",
       "    <tr>\n",
       "      <th>0</th>\n",
       "      <td>Mi</td>\n",
       "      <td>[4A PRO 80 cm (32) HD Ready LED Smart Android ...</td>\n",
       "      <td>12499</td>\n",
       "      <td>4.4</td>\n",
       "      <td>463724</td>\n",
       "      <td>https://www.flipkart.com/mi-4a-pro-80-cm-32-hd...</td>\n",
       "    </tr>\n",
       "    <tr>\n",
       "      <th>1</th>\n",
       "      <td>Mi</td>\n",
       "      <td>[4A 100 cm (40) Full HD LED Smart Android TV W...</td>\n",
       "      <td>17999</td>\n",
       "      <td>4.4</td>\n",
       "      <td>463724</td>\n",
       "      <td>https://www.flipkart.com/mi-4a-100-cm-40-full-...</td>\n",
       "    </tr>\n",
       "    <tr>\n",
       "      <th>2</th>\n",
       "      <td>Mi</td>\n",
       "      <td>[4A Pro 108 cm (43) Full HD LED Smart Android ...</td>\n",
       "      <td>21999</td>\n",
       "      <td>4.4</td>\n",
       "      <td>463724</td>\n",
       "      <td>https://www.flipkart.com/mi-4a-pro-108-cm-43-f...</td>\n",
       "    </tr>\n",
       "    <tr>\n",
       "      <th>3</th>\n",
       "      <td>Samsung</td>\n",
       "      <td>[80cm (32 inch) HD Ready LED Smart TV, Netflix...</td>\n",
       "      <td>13999</td>\n",
       "      <td>4.4</td>\n",
       "      <td>1676</td>\n",
       "      <td>https://www.flipkart.com/samsung-80cm-32-inch-...</td>\n",
       "    </tr>\n",
       "    <tr>\n",
       "      <th>4</th>\n",
       "      <td>Mi</td>\n",
       "      <td>[4X 108 cm (43) Ultra HD (4K) LED Smart Androi...</td>\n",
       "      <td>24999</td>\n",
       "      <td>4.4</td>\n",
       "      <td>25037</td>\n",
       "      <td>https://www.flipkart.com/mi-4x-108-cm-43-ultra...</td>\n",
       "    </tr>\n",
       "    <tr>\n",
       "      <th>...</th>\n",
       "      <td>...</td>\n",
       "      <td>...</td>\n",
       "      <td>...</td>\n",
       "      <td>...</td>\n",
       "      <td>...</td>\n",
       "      <td>...</td>\n",
       "    </tr>\n",
       "    <tr>\n",
       "      <th>979</th>\n",
       "      <td>Samsung</td>\n",
       "      <td>[40 Inches Full HD LED UA40D5000PRMXL Televisi...</td>\n",
       "      <td>66900</td>\n",
       "      <td>4.3</td>\n",
       "      <td>38</td>\n",
       "      <td>https://www.flipkart.com/samsung-40-inches-ful...</td>\n",
       "    </tr>\n",
       "    <tr>\n",
       "      <th>980</th>\n",
       "      <td>LG</td>\n",
       "      <td>[108cm (43 inch) Full HD LED Smart TV, Full HD...</td>\n",
       "      <td>61240</td>\n",
       "      <td>2.7</td>\n",
       "      <td>6</td>\n",
       "      <td>https://www.flipkart.com/lg-108cm-43-inch-full...</td>\n",
       "    </tr>\n",
       "    <tr>\n",
       "      <th>981</th>\n",
       "      <td>Samsung</td>\n",
       "      <td>[(40 inch) Full HD LED TV, Full HD 1920 x 1080...</td>\n",
       "      <td>53500</td>\n",
       "      <td>unrated</td>\n",
       "      <td>unrated</td>\n",
       "      <td>https://www.flipkart.com/samsung-40-inch-full-...</td>\n",
       "    </tr>\n",
       "    <tr>\n",
       "      <th>982</th>\n",
       "      <td>Sony</td>\n",
       "      <td>[BRAVIA 55 inches Full HD 3D LED KDL-55HX750 T...</td>\n",
       "      <td>159900</td>\n",
       "      <td>5</td>\n",
       "      <td>18</td>\n",
       "      <td>https://www.flipkart.com/sony-bravia-55-inches...</td>\n",
       "    </tr>\n",
       "    <tr>\n",
       "      <th>983</th>\n",
       "      <td>Samsung</td>\n",
       "      <td>[40 Inches Full HD LED UA40D5003BR Television,...</td>\n",
       "      <td>65900</td>\n",
       "      <td>3.3</td>\n",
       "      <td>12</td>\n",
       "      <td>https://www.flipkart.com/samsung-40-inches-ful...</td>\n",
       "    </tr>\n",
       "  </tbody>\n",
       "</table>\n",
       "<p>984 rows × 6 columns</p>\n",
       "</div>"
      ],
      "text/plain": [
       "       brand                                           features   price  \\\n",
       "0         Mi  [4A PRO 80 cm (32) HD Ready LED Smart Android ...   12499   \n",
       "1         Mi  [4A 100 cm (40) Full HD LED Smart Android TV W...   17999   \n",
       "2         Mi  [4A Pro 108 cm (43) Full HD LED Smart Android ...   21999   \n",
       "3    Samsung  [80cm (32 inch) HD Ready LED Smart TV, Netflix...   13999   \n",
       "4         Mi  [4X 108 cm (43) Ultra HD (4K) LED Smart Androi...   24999   \n",
       "..       ...                                                ...     ...   \n",
       "979  Samsung  [40 Inches Full HD LED UA40D5000PRMXL Televisi...   66900   \n",
       "980       LG  [108cm (43 inch) Full HD LED Smart TV, Full HD...   61240   \n",
       "981  Samsung  [(40 inch) Full HD LED TV, Full HD 1920 x 1080...   53500   \n",
       "982     Sony  [BRAVIA 55 inches Full HD 3D LED KDL-55HX750 T...  159900   \n",
       "983  Samsung  [40 Inches Full HD LED UA40D5003BR Television,...   65900   \n",
       "\n",
       "      rating rating_count                                               link  \n",
       "0        4.4       463724  https://www.flipkart.com/mi-4a-pro-80-cm-32-hd...  \n",
       "1        4.4       463724  https://www.flipkart.com/mi-4a-100-cm-40-full-...  \n",
       "2        4.4       463724  https://www.flipkart.com/mi-4a-pro-108-cm-43-f...  \n",
       "3        4.4         1676  https://www.flipkart.com/samsung-80cm-32-inch-...  \n",
       "4        4.4        25037  https://www.flipkart.com/mi-4x-108-cm-43-ultra...  \n",
       "..       ...          ...                                                ...  \n",
       "979      4.3           38  https://www.flipkart.com/samsung-40-inches-ful...  \n",
       "980      2.7            6  https://www.flipkart.com/lg-108cm-43-inch-full...  \n",
       "981  unrated      unrated  https://www.flipkart.com/samsung-40-inch-full-...  \n",
       "982        5           18  https://www.flipkart.com/sony-bravia-55-inches...  \n",
       "983      3.3           12  https://www.flipkart.com/samsung-40-inches-ful...  \n",
       "\n",
       "[984 rows x 6 columns]"
      ]
     },
     "execution_count": 56,
     "metadata": {},
     "output_type": "execute_result"
    }
   ],
   "source": [
    "pd.DataFrame(data,columns=['brand','features','price','rating','rating_count','link'])"
   ]
  },
  {
   "cell_type": "code",
   "execution_count": 58,
   "metadata": {
    "scrolled": true
   },
   "outputs": [],
   "source": [
    "df=pd.DataFrame(data,columns=['brand','features','price','rating','rating_count','link'])"
   ]
  },
  {
   "cell_type": "code",
   "execution_count": 60,
   "metadata": {},
   "outputs": [],
   "source": [
    "df.to_csv(f'output/{search_object}.csv',index=False)"
   ]
  },
  {
   "cell_type": "code",
   "execution_count": null,
   "metadata": {},
   "outputs": [],
   "source": []
  }
 ],
 "metadata": {
  "kernelspec": {
   "display_name": "Python 3",
   "language": "python",
   "name": "python3"
  },
  "language_info": {
   "codemirror_mode": {
    "name": "ipython",
    "version": 3
   },
   "file_extension": ".py",
   "mimetype": "text/x-python",
   "name": "python",
   "nbconvert_exporter": "python",
   "pygments_lexer": "ipython3",
   "version": "3.7.6"
  }
 },
 "nbformat": 4,
 "nbformat_minor": 2
}
